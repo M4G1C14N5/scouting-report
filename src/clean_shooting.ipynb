{
 "cells": [
  {
   "cell_type": "markdown",
   "id": "cfbdfad4",
   "metadata": {},
   "source": [
    "## Where I will clean shooting"
   ]
  },
  {
   "cell_type": "code",
   "execution_count": 4,
   "id": "56c70eee",
   "metadata": {},
   "outputs": [],
   "source": [
    "from fbref_utils import load_fbref_csv, common_cleaning"
   ]
  },
  {
   "cell_type": "code",
   "execution_count": 5,
   "id": "00fe8f12",
   "metadata": {},
   "outputs": [],
   "source": [
    "df_shooting = load_fbref_csv(\"../uncleaned_data_csv/standard.csv\")\n",
    "df_shooting = common_cleaning(df_shooting)"
   ]
  },
  {
   "cell_type": "code",
   "execution_count": null,
   "id": "3b462805",
   "metadata": {},
   "outputs": [],
   "source": []
  }
 ],
 "metadata": {
  "kernelspec": {
   "display_name": "base",
   "language": "python",
   "name": "python3"
  },
  "language_info": {
   "codemirror_mode": {
    "name": "ipython",
    "version": 3
   },
   "file_extension": ".py",
   "mimetype": "text/x-python",
   "name": "python",
   "nbconvert_exporter": "python",
   "pygments_lexer": "ipython3",
   "version": "3.11.5"
  }
 },
 "nbformat": 4,
 "nbformat_minor": 5
}
