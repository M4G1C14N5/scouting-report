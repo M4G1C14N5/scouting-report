{
 "cells": [
  {
   "cell_type": "markdown",
   "id": "777afeb6",
   "metadata": {},
   "source": [
    "## This file will focus strictly on scraping data from the website fbref.com\n"
   ]
  },
  {
   "cell_type": "code",
   "execution_count": 3,
   "id": "c505bcaf-a286-4bff-9a2f-42650bafdad6",
   "metadata": {},
   "outputs": [
    {
     "name": "stdout",
     "output_type": "stream",
     "text": [
      "Requirement already satisfied: requests in c:\\users\\tom\\anaconda3\\lib\\site-packages (2.32.2)Note: you may need to restart the kernel to use updated packages.\n",
      "\n",
      "Requirement already satisfied: beautifulsoup4 in c:\\users\\tom\\anaconda3\\lib\\site-packages (4.12.3)\n",
      "Requirement already satisfied: pandas in c:\\users\\tom\\anaconda3\\lib\\site-packages (2.2.2)\n",
      "Requirement already satisfied: charset-normalizer<4,>=2 in c:\\users\\tom\\anaconda3\\lib\\site-packages (from requests) (2.0.4)\n",
      "Requirement already satisfied: idna<4,>=2.5 in c:\\users\\tom\\anaconda3\\lib\\site-packages (from requests) (3.7)\n",
      "Requirement already satisfied: urllib3<3,>=1.21.1 in c:\\users\\tom\\anaconda3\\lib\\site-packages (from requests) (2.2.2)\n",
      "Requirement already satisfied: certifi>=2017.4.17 in c:\\users\\tom\\anaconda3\\lib\\site-packages (from requests) (2024.7.4)\n",
      "Requirement already satisfied: soupsieve>1.2 in c:\\users\\tom\\anaconda3\\lib\\site-packages (from beautifulsoup4) (2.5)\n",
      "Requirement already satisfied: numpy>=1.26.0 in c:\\users\\tom\\anaconda3\\lib\\site-packages (from pandas) (1.26.4)\n",
      "Requirement already satisfied: python-dateutil>=2.8.2 in c:\\users\\tom\\anaconda3\\lib\\site-packages (from pandas) (2.9.0.post0)\n",
      "Requirement already satisfied: pytz>=2020.1 in c:\\users\\tom\\anaconda3\\lib\\site-packages (from pandas) (2024.1)\n",
      "Requirement already satisfied: tzdata>=2022.7 in c:\\users\\tom\\anaconda3\\lib\\site-packages (from pandas) (2023.3)\n",
      "Requirement already satisfied: six>=1.5 in c:\\users\\tom\\anaconda3\\lib\\site-packages (from python-dateutil>=2.8.2->pandas) (1.16.0)\n"
     ]
    }
   ],
   "source": [
    "pip install requests beautifulsoup4 pandas"
   ]
  },
  {
   "cell_type": "code",
   "execution_count": 10,
   "id": "2c64d049-ea7f-4be3-b8e0-02ec7829e96a",
   "metadata": {},
   "outputs": [],
   "source": [
    "import requests\n",
    "from bs4 import BeautifulSoup\n",
    "import pandas as pd\n",
    "import os\n"
   ]
  },
  {
   "cell_type": "markdown",
   "id": "1d06bf7b",
   "metadata": {},
   "source": [
    "### Defining functions\n",
    "\n",
    "\n",
    "`get_team_data()` takes a file path, reads the HTML content, and returns a dataframe"
   ]
  },
  {
   "cell_type": "code",
   "execution_count": 16,
   "id": "74caa9be-6fb2-4199-a18b-44b7a9dcdd7c",
   "metadata": {},
   "outputs": [],
   "source": [
    "def get_team_data(file_path):\n",
    "    # Read the HTML content from the file\n",
    "    with open(file_path, 'r', encoding='utf-8') as file:\n",
    "        html_content = file.read()\n",
    "    \n",
    "    # Parse the HTML content\n",
    "    soup = BeautifulSoup(html_content, 'html.parser')\n",
    "    \n",
    "    # Find the table\n",
    "    table = soup.find('table')\n",
    "    \n",
    "    if not table:\n",
    "        raise ValueError(\"No table found in the HTML content\")\n",
    "    \n",
    "    # Extract column names from thead\n",
    "    thead = table.find('thead')\n",
    "    if thead:\n",
    "        column_headers = thead.find_all('th')\n",
    "        column_names = [th.get('aria-label', th.text.strip()) for th in column_headers]\n",
    "    else:\n",
    "        column_names = []\n",
    "    \n",
    "    # Extract data from tbody\n",
    "    tbody = table.find('tbody')\n",
    "    data = []\n",
    "    if tbody:\n",
    "        for row in tbody.find_all('tr'):\n",
    "            row_data = [cell.text.strip() for cell in row.find_all(['th', 'td'])]\n",
    "            data.append(row_data)\n",
    "    \n",
    "    # Create dataframe\n",
    "    df = pd.DataFrame(data, columns=column_names)\n",
    "    \n",
    "    return df\n",
    "    \n",
    "    \n",
    "    "
   ]
  },
  {
   "cell_type": "markdown",
   "id": "8bd5085a",
   "metadata": {},
   "source": [
    "`get_all_seasons()` loops through all the txt files, extracts the data, and adds it to a dataframe"
   ]
  },
  {
   "cell_type": "code",
   "execution_count": 20,
   "id": "4a930605",
   "metadata": {},
   "outputs": [],
   "source": [
    "def get_all_seasons():\n",
    "    seasons = ['2017-2018', '2018-2019', '2019-2020', '2020-2021', '2021-2022', '2022-2023', '2023-2024']\n",
    "    all_seasons = []\n",
    "    \n",
    "    for season in seasons:\n",
    "        path = f'{season}.txt'\n",
    "        current_season = get_team_data(path)\n",
    "        current_season['Season'] = season  # Add a season column\n",
    "        all_seasons.append(current_season)\n",
    "    \n",
    "    return pd.concat(all_seasons, ignore_index=True)"
   ]
  },
  {
   "cell_type": "code",
   "execution_count": 7,
   "id": "e5e58e2c-3665-4ab4-913a-3bcb4aeb5163",
   "metadata": {},
   "outputs": [],
   "source": [
    "# def get_player_data(url)"
   ]
  },
  {
   "cell_type": "markdown",
   "id": "073e5ad0",
   "metadata": {},
   "source": [
    "### Getting team data from website"
   ]
  },
  {
   "cell_type": "code",
   "execution_count": 21,
   "id": "6620c862-bf86-4deb-9ec6-1717c83b3b5b",
   "metadata": {},
   "outputs": [
    {
     "name": "stdout",
     "output_type": "stream",
     "text": [
      "  Rk            Squad  Country Rank Matches Played Wins Draws Losses  \\\n",
      "0  1  Manchester City  eng ENG    1             38   32     4      2   \n",
      "1  2         Juventus   it ITA    1             38   30     5      3   \n",
      "2  3    Bayern Munich   de GER    1             34   27     3      4   \n",
      "3  4        Paris S-G   fr FRA    1             38   29     6      3   \n",
      "4  5        Barcelona   es ESP    1             38   28     9      1   \n",
      "\n",
      "  Goals For Goals Against  ... Points Points/Match    xG xG Allowed  \\\n",
      "0       106            27  ...    100         2.63  78.6       23.8   \n",
      "1        86            24  ...     95         2.50  55.3       27.4   \n",
      "2        92            28  ...     84         2.47  75.8       31.7   \n",
      "3       108            29  ...     93         2.45  86.1       34.3   \n",
      "4        99            29  ...     93         2.45  83.5       41.9   \n",
      "\n",
      "  xG Difference xG Difference/90 Attendance/Game          Top Team Scorer  \\\n",
      "0         +54.8            +1.44          53,812       Sergio Agüero - 21   \n",
      "1         +27.9            +0.73          38,919        Paulo Dybala - 22   \n",
      "2         +44.1            +1.30          75,000  Robert Lewandowski - 29   \n",
      "3         +51.7            +1.36          46,930      Edinson Cavani - 28   \n",
      "4         +41.6            +1.09          67,142        Lionel Messi - 34   \n",
      "\n",
      "              Goalkeeper     Season  \n",
      "0                Ederson  2017-2018  \n",
      "1       Gianluigi Buffon  2017-2018  \n",
      "2           Sven Ulreich  2017-2018  \n",
      "3        Alphonse Areola  2017-2018  \n",
      "4  Marc-André ter Stegen  2017-2018  \n",
      "\n",
      "[5 rows x 21 columns]\n"
     ]
    }
   ],
   "source": [
    "seasons_data = get_all_seasons()\n",
    "output_path = 'seasons_data.csv'\n",
    "seasons_data.to_csv(output_path, index=False)\n",
    "print(seasons_data.head())"
   ]
  },
  {
   "cell_type": "markdown",
   "id": "5b2325a6",
   "metadata": {},
   "source": [
    "### Getting Player data\n"
   ]
  },
  {
   "cell_type": "code",
   "execution_count": null,
   "id": "238f043b",
   "metadata": {},
   "outputs": [],
   "source": []
  }
 ],
 "metadata": {
  "kernelspec": {
   "display_name": "Python 3 (ipykernel)",
   "language": "python",
   "name": "python3"
  },
  "language_info": {
   "codemirror_mode": {
    "name": "ipython",
    "version": 3
   },
   "file_extension": ".py",
   "mimetype": "text/x-python",
   "name": "python",
   "nbconvert_exporter": "python",
   "pygments_lexer": "ipython3",
   "version": "3.12.4"
  }
 },
 "nbformat": 4,
 "nbformat_minor": 5
}
